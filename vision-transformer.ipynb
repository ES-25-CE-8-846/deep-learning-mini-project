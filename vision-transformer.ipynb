{
 "cells": [
  {
   "cell_type": "code",
   "execution_count": 1,
   "metadata": {
    "_cell_guid": "b1076dfc-b9ad-4769-8c92-a6c4dae69d19",
    "_uuid": "8f2839f25d086af736a60e9eeb907d3b93b6e0e5",
    "execution": {
     "iopub.execute_input": "2025-03-12T15:14:21.092241Z",
     "iopub.status.busy": "2025-03-12T15:14:21.091841Z",
     "iopub.status.idle": "2025-03-12T15:14:31.200507Z",
     "shell.execute_reply": "2025-03-12T15:14:31.199854Z",
     "shell.execute_reply.started": "2025-03-12T15:14:21.092210Z"
    },
    "trusted": true
   },
   "outputs": [],
   "source": [
    "from torch import optim, nn, utils, Tensor\n",
    "from torchvision.transforms import transforms\n",
    "from torchvision.models import vision_transformer\n",
    "import pytorch_lightning as PL\n",
    "from pytorch_lightning.loggers import WandbLogger\n",
    "import os\n",
    "import kagglehub"
   ]
  },
  {
   "cell_type": "code",
   "execution_count": 2,
   "metadata": {
    "execution": {
     "iopub.execute_input": "2025-03-12T15:14:31.201761Z",
     "iopub.status.busy": "2025-03-12T15:14:31.201413Z",
     "iopub.status.idle": "2025-03-12T15:14:31.431420Z",
     "shell.execute_reply": "2025-03-12T15:14:31.430848Z",
     "shell.execute_reply.started": "2025-03-12T15:14:31.201738Z"
    },
    "trusted": true
   },
   "outputs": [],
   "source": [
    "from kaggle_secrets import UserSecretsClient\n",
    "user_secrets = UserSecretsClient()\n",
    "wandb_api = user_secrets.get_secret(\"wandb-api\")"
   ]
  },
  {
   "cell_type": "code",
   "execution_count": 3,
   "metadata": {
    "execution": {
     "iopub.execute_input": "2025-03-12T15:14:31.433172Z",
     "iopub.status.busy": "2025-03-12T15:14:31.432968Z",
     "iopub.status.idle": "2025-03-12T15:14:39.487189Z",
     "shell.execute_reply": "2025-03-12T15:14:39.486458Z",
     "shell.execute_reply.started": "2025-03-12T15:14:31.433154Z"
    },
    "trusted": true
   },
   "outputs": [
    {
     "name": "stderr",
     "output_type": "stream",
     "text": [
      "\u001b[34m\u001b[1mwandb\u001b[0m: Using wandb-core as the SDK backend.  Please refer to https://wandb.me/wandb-core for more information.\n",
      "\u001b[34m\u001b[1mwandb\u001b[0m: \u001b[33mWARNING\u001b[0m If you're specifying your api key in code, ensure this code is not shared publicly.\n",
      "\u001b[34m\u001b[1mwandb\u001b[0m: \u001b[33mWARNING\u001b[0m Consider setting the WANDB_API_KEY environment variable, or running `wandb login` from the command line.\n",
      "\u001b[34m\u001b[1mwandb\u001b[0m: Appending key for api.wandb.ai to your netrc file: /root/.netrc\n"
     ]
    },
    {
     "data": {
      "text/plain": [
       "True"
      ]
     },
     "execution_count": 3,
     "metadata": {},
     "output_type": "execute_result"
    }
   ],
   "source": [
    "# Login to wandb\n",
    "import wandb\n",
    "wandb.login(key=wandb_api, relogin=True)"
   ]
  },
  {
   "cell_type": "code",
   "execution_count": 4,
   "metadata": {
    "execution": {
     "iopub.execute_input": "2025-03-12T15:14:39.488667Z",
     "iopub.status.busy": "2025-03-12T15:14:39.488277Z",
     "iopub.status.idle": "2025-03-12T15:14:39.495688Z",
     "shell.execute_reply": "2025-03-12T15:14:39.494675Z",
     "shell.execute_reply.started": "2025-03-12T15:14:39.488644Z"
    },
    "trusted": true
   },
   "outputs": [],
   "source": [
    "import torch \n",
    "import torchvision \n",
    "import torch.utils.data as data\n",
    "from torch.utils.data import Dataset\n",
    "from torch.utils.data import DataLoader\n",
    "from PIL import Image \n",
    "\n",
    "class FruitsAndVeggies(Dataset):\n",
    "    def __init__(self, split_root, transforms):\n",
    "        # create a dict of labels and filepaths\n",
    "        class_dir_names = sorted(os.listdir(split_root))\n",
    "        self.n_classes = len(class_dir_names)\n",
    "        self.transforms = transforms\n",
    "        \n",
    "        # create one-hot encoding \n",
    "        self.dataset_list = []\n",
    "        for i, class_dir in enumerate(class_dir_names):\n",
    "            label = torch.zeros(self.n_classes)\n",
    "            label[i] = 1\n",
    "            \n",
    "            extension_set = {\"jpg\", \"png\",  \"JPG\", \"jpeg\"}\n",
    "\n",
    "            for image in sorted(os.listdir(os.path.join(split_root, class_dir))):\n",
    "                extension = image.split(\".\")[-1]\n",
    "\n",
    "                if extension in extension_set:\n",
    "                    self.dataset_list.append([label, os.path.join(split_root,class_dir,image)])\n",
    "                else:\n",
    "                    print(f\"{extension} found in dataset\")\n",
    "        \n",
    "    def __len__(self):\n",
    "        return len(self.dataset_list)\n",
    "\n",
    "    def __getitem__(self, index):\n",
    "        data_list = self.dataset_list[index]\n",
    "        image_path = data_list[1]\n",
    "        label = data_list[0]\n",
    "        image = Image.open(image_path)\n",
    "       \n",
    "\n",
    "        if image.mode != \"RGB\":\n",
    "            image = image.convert(\"RGB\")\n",
    "\n",
    "        image = self.transforms(image)\n",
    "\n",
    "        return image, label\n"
   ]
  },
  {
   "cell_type": "code",
   "execution_count": 5,
   "metadata": {
    "execution": {
     "iopub.execute_input": "2025-03-12T15:14:39.496817Z",
     "iopub.status.busy": "2025-03-12T15:14:39.496567Z",
     "iopub.status.idle": "2025-03-12T15:14:43.742957Z",
     "shell.execute_reply": "2025-03-12T15:14:43.742269Z",
     "shell.execute_reply.started": "2025-03-12T15:14:39.496797Z"
    },
    "trusted": true
   },
   "outputs": [
    {
     "name": "stdout",
     "output_type": "stream",
     "text": [
      "Path to dataset files: /kaggle/input/fruit-and-vegetable-image-recognition\n"
     ]
    },
    {
     "name": "stderr",
     "output_type": "stream",
     "text": [
      "Downloading: \"https://download.pytorch.org/models/vit_b_16-c867db91.pth\" to /root/.cache/torch/hub/checkpoints/vit_b_16-c867db91.pth\n",
      "100%|██████████| 330M/330M [00:01<00:00, 200MB/s] \n"
     ]
    }
   ],
   "source": [
    "# Download latest version\n",
    "data_path = kagglehub.dataset_download(\"kritikseth/fruit-and-vegetable-image-recognition\")\n",
    "\n",
    "print(\"Path to dataset files:\", data_path)\n",
    "\n",
    "LEARNING_RATE = 1e-4*0.70\n",
    "BATCH_SIZE = 32\n",
    "ARCHITECTURE = \"ViT_B_16\"\n",
    "# ViT_B_16_Weights.IMAGENET1K_V1\n",
    "# ViT_B_16_Weights.IMAGENET1K_SWAG_E2E_V1\n",
    "# ViT_L_16_Weights.IMAGENET1K_SWAG_E2E_V1\n",
    "# ViT_H_14_Weights.IMAGENET1K_SWAG_E2E_V1\n",
    "vit_model = vision_transformer.vit_b_16(weights=vision_transformer.ViT_B_16_Weights.IMAGENET1K_V1)\n",
    "model_transforms = vision_transformer.ViT_B_16_Weights.IMAGENET1K_V1.transforms()\n",
    "\n",
    "train_path = os.path.join(data_path, \"train\")\n",
    "validation_path = os.path.join(data_path, \"validation\")\n",
    "test_path = os.path.join(data_path, \"test\")\n",
    "\n",
    "train_dataset = FruitsAndVeggies(train_path, model_transforms)\n",
    "validation_dataset = FruitsAndVeggies(validation_path, model_transforms)\n",
    "test_dataset = FruitsAndVeggies(test_path, model_transforms)\n",
    "\n",
    "train_dataloader = utils.data.DataLoader(train_dataset, batch_size=BATCH_SIZE, shuffle=True, num_workers=4)\n",
    "validation_dataloader = utils.data.DataLoader(validation_dataset, batch_size=BATCH_SIZE, shuffle=False, num_workers=4)\n",
    "test_dataloader = utils.data.DataLoader(test_dataset, batch_size=BATCH_SIZE, shuffle=False, num_workers=4)"
   ]
  },
  {
   "cell_type": "code",
   "execution_count": null,
   "metadata": {
    "execution": {
     "iopub.execute_input": "2025-03-12T15:14:43.744021Z",
     "iopub.status.busy": "2025-03-12T15:14:43.743793Z",
     "iopub.status.idle": "2025-03-12T15:14:43.751682Z",
     "shell.execute_reply": "2025-03-12T15:14:43.750754Z",
     "shell.execute_reply.started": "2025-03-12T15:14:43.744002Z"
    },
    "trusted": true
   },
   "outputs": [],
   "source": [
    "class ViT_lightning(PL.LightningModule):\n",
    "    def __init__(self, model, num_classes, lr):\n",
    "        super().__init__()\n",
    "        \n",
    "        self.model = model\n",
    "        self.model.heads.head = nn.Linear(self.model.heads.head.in_features, num_classes)\n",
    "        \n",
    "        self.num_classes = num_classes\n",
    "        #self.loss_fn = nn.CrossEntropyLoss()\n",
    "        self.loss_fn = nn.functional.cross_entropy\n",
    "        self.lr = lr\n",
    "\n",
    "    def forward(self, x):\n",
    "        return self.model(x)\n",
    "    \n",
    "    def configure_optimizers(self):\n",
    "        #optimizer = optim.Adam(self.parameters(), lr=self.lr, betas=(0.9, 0.999), weight_decay=0.1)\n",
    "        optimizer = optim.AdamW(self.parameters(), lr=self.lr, betas=(0.9, 0.999), weight_decay=0.01)\n",
    "        return optimizer\n",
    "\n",
    "    def training_step(self, train_batch, batch_idx):\n",
    "        x, y = train_batch\n",
    "        preds = self(x)\n",
    "\n",
    "        # Convert one-hot labels to class indices\n",
    "        if y.ndim == 2 and y.shape[1] > 1:  # One-hot encoded case\n",
    "            y = y.argmax(dim=1)  # Convert [batch_size, num_classes] → [batch_size]\n",
    "\n",
    "        loss = self.loss_fn(preds, y)\n",
    "        acc = (preds.argmax(dim=1) == y).float().mean()\n",
    "        \n",
    "        self.log(\"train_loss\", loss, prog_bar=True, sync_dist=True)\n",
    "        self.log(\"train_acc\", acc, prog_bar=True, sync_dist=True)\n",
    "        return loss\n",
    "\n",
    "    def validation_step(self, val_batch, batch_idx):\n",
    "        x, y = val_batch\n",
    "        preds = self(x)\n",
    "\n",
    "        # Convert one-hot labels to class indices\n",
    "        if y.ndim == 2 and y.shape[1] > 1:  # One-hot encoded case\n",
    "            y = y.argmax(dim=1)  # Convert [batch_size, num_classes] → [batch_size]\n",
    "\n",
    "        loss = self.loss_fn(preds, y)\n",
    "        acc = (preds.argmax(dim=1) == y).float().mean()\n",
    "        \n",
    "        self.log(\"val_loss\", loss, prog_bar=True, sync_dist=True)\n",
    "        self.log(\"val_acc\", acc, prog_bar=True, sync_dist=True)\n",
    "\n",
    "    def test_step(self, test_batch, batch_idx):\n",
    "        x, y = test_batch\n",
    "        preds = self(x)\n",
    "\n",
    "        # Convert one-hot labels to class indices\n",
    "        if y.ndim == 2 and y.shape[1] > 1:  # One-hot encoded case\n",
    "            y = y.argmax(dim=1)  # Convert [batch_size, num_classes] → [batch_size]\n",
    "\n",
    "        loss = self.loss_fn(preds, y)\n",
    "        acc = (preds.argmax(dim=1) == y).float().mean()\n",
    "        \n",
    "        self.log(\"test_loss\", loss, prog_bar=True, sync_dist=True)\n",
    "        self.log(\"test_acc\", acc, prog_bar=True, sync_dist=True)\n"
   ]
  },
  {
   "cell_type": "code",
   "execution_count": 7,
   "metadata": {
    "execution": {
     "iopub.execute_input": "2025-03-12T15:14:43.752780Z",
     "iopub.status.busy": "2025-03-12T15:14:43.752491Z",
     "iopub.status.idle": "2025-03-12T15:14:43.771690Z",
     "shell.execute_reply": "2025-03-12T15:14:43.770932Z",
     "shell.execute_reply.started": "2025-03-12T15:14:43.752753Z"
    },
    "trusted": true
   },
   "outputs": [],
   "source": [
    "# Model creation\n",
    "model = ViT_lightning(\n",
    "    model=vit_model,\n",
    "    num_classes=train_dataset.n_classes,\n",
    "    lr=LEARNING_RATE,\n",
    ")"
   ]
  },
  {
   "cell_type": "code",
   "execution_count": null,
   "metadata": {
    "execution": {
     "iopub.execute_input": "2025-03-12T15:14:43.773711Z",
     "iopub.status.busy": "2025-03-12T15:14:43.773493Z",
     "iopub.status.idle": "2025-03-12T15:23:10.833122Z",
     "shell.execute_reply": "2025-03-12T15:23:10.832380Z",
     "shell.execute_reply.started": "2025-03-12T15:14:43.773693Z"
    },
    "trusted": true
   },
   "outputs": [
    {
     "name": "stderr",
     "output_type": "stream",
     "text": [
      "\u001b[34m\u001b[1mwandb\u001b[0m: Currently logged in as: \u001b[33mandreas-hovaldt\u001b[0m (\u001b[33mavs-846\u001b[0m). Use \u001b[1m`wandb login --relogin`\u001b[0m to force relogin\n"
     ]
    },
    {
     "data": {
      "text/html": [
       "Tracking run with wandb version 0.19.1"
      ],
      "text/plain": [
       "<IPython.core.display.HTML object>"
      ]
     },
     "metadata": {},
     "output_type": "display_data"
    },
    {
     "data": {
      "text/html": [
       "Run data is saved locally in <code>./wandb/run-20250312_151443-ye8k6g5h</code>"
      ],
      "text/plain": [
       "<IPython.core.display.HTML object>"
      ]
     },
     "metadata": {},
     "output_type": "display_data"
    },
    {
     "data": {
      "text/html": [
       "Syncing run <strong><a href='https://wandb.ai/avs-846/Mini-project/runs/ye8k6g5h' target=\"_blank\">ViT_B_16-dreez</a></strong> to <a href='https://wandb.ai/avs-846/Mini-project' target=\"_blank\">Weights & Biases</a> (<a href='https://wandb.me/developer-guide' target=\"_blank\">docs</a>)<br>"
      ],
      "text/plain": [
       "<IPython.core.display.HTML object>"
      ]
     },
     "metadata": {},
     "output_type": "display_data"
    },
    {
     "data": {
      "text/html": [
       " View project at <a href='https://wandb.ai/avs-846/Mini-project' target=\"_blank\">https://wandb.ai/avs-846/Mini-project</a>"
      ],
      "text/plain": [
       "<IPython.core.display.HTML object>"
      ]
     },
     "metadata": {},
     "output_type": "display_data"
    },
    {
     "data": {
      "text/html": [
       " View run at <a href='https://wandb.ai/avs-846/Mini-project/runs/ye8k6g5h' target=\"_blank\">https://wandb.ai/avs-846/Mini-project/runs/ye8k6g5h</a>"
      ],
      "text/plain": [
       "<IPython.core.display.HTML object>"
      ]
     },
     "metadata": {},
     "output_type": "display_data"
    },
    {
     "name": "stderr",
     "output_type": "stream",
     "text": [
      "/usr/local/lib/python3.10/dist-packages/PIL/Image.py:1054: UserWarning: Palette images with Transparency expressed in bytes should be converted to RGBA images\n",
      "  warnings.warn(\n",
      "/usr/local/lib/python3.10/dist-packages/PIL/Image.py:1054: UserWarning: Palette images with Transparency expressed in bytes should be converted to RGBA images\n",
      "  warnings.warn(\n",
      "/usr/local/lib/python3.10/dist-packages/PIL/Image.py:1054: UserWarning: Palette images with Transparency expressed in bytes should be converted to RGBA images\n",
      "  warnings.warn(\n",
      "/usr/local/lib/python3.10/dist-packages/PIL/Image.py:1054: UserWarning: Palette images with Transparency expressed in bytes should be converted to RGBA images\n",
      "  warnings.warn(\n",
      "/usr/local/lib/python3.10/dist-packages/PIL/Image.py:1054: UserWarning: Palette images with Transparency expressed in bytes should be converted to RGBA images\n",
      "  warnings.warn(\n",
      "/usr/local/lib/python3.10/dist-packages/PIL/Image.py:1054: UserWarning: Palette images with Transparency expressed in bytes should be converted to RGBA images\n",
      "  warnings.warn(\n",
      "/usr/local/lib/python3.10/dist-packages/PIL/Image.py:1054: UserWarning: Palette images with Transparency expressed in bytes should be converted to RGBA images\n",
      "  warnings.warn(\n",
      "/usr/local/lib/python3.10/dist-packages/PIL/Image.py:1054: UserWarning: Palette images with Transparency expressed in bytes should be converted to RGBA images\n",
      "  warnings.warn(\n",
      "/usr/local/lib/python3.10/dist-packages/PIL/Image.py:1054: UserWarning: Palette images with Transparency expressed in bytes should be converted to RGBA images\n",
      "  warnings.warn(\n",
      "/usr/local/lib/python3.10/dist-packages/PIL/Image.py:1054: UserWarning: Palette images with Transparency expressed in bytes should be converted to RGBA images\n",
      "  warnings.warn(\n",
      "/usr/local/lib/python3.10/dist-packages/PIL/Image.py:1054: UserWarning: Palette images with Transparency expressed in bytes should be converted to RGBA images\n",
      "  warnings.warn(\n",
      "/usr/local/lib/python3.10/dist-packages/PIL/Image.py:1054: UserWarning: Palette images with Transparency expressed in bytes should be converted to RGBA images\n",
      "  warnings.warn(\n",
      "/usr/local/lib/python3.10/dist-packages/PIL/Image.py:1054: UserWarning: Palette images with Transparency expressed in bytes should be converted to RGBA images\n",
      "  warnings.warn(\n",
      "/usr/local/lib/python3.10/dist-packages/PIL/Image.py:1054: UserWarning: Palette images with Transparency expressed in bytes should be converted to RGBA images\n",
      "  warnings.warn(\n",
      "/usr/local/lib/python3.10/dist-packages/PIL/Image.py:1054: UserWarning: Palette images with Transparency expressed in bytes should be converted to RGBA images\n",
      "  warnings.warn(\n",
      "/usr/local/lib/python3.10/dist-packages/PIL/Image.py:1054: UserWarning: Palette images with Transparency expressed in bytes should be converted to RGBA images\n",
      "  warnings.warn(\n",
      "/usr/local/lib/python3.10/dist-packages/PIL/Image.py:1054: UserWarning: Palette images with Transparency expressed in bytes should be converted to RGBA images\n",
      "  warnings.warn(\n",
      "/usr/local/lib/python3.10/dist-packages/PIL/Image.py:1054: UserWarning: Palette images with Transparency expressed in bytes should be converted to RGBA images\n",
      "  warnings.warn(\n",
      "/usr/local/lib/python3.10/dist-packages/PIL/Image.py:1054: UserWarning: Palette images with Transparency expressed in bytes should be converted to RGBA images\n",
      "  warnings.warn(\n",
      "/usr/local/lib/python3.10/dist-packages/PIL/Image.py:1054: UserWarning: Palette images with Transparency expressed in bytes should be converted to RGBA images\n",
      "  warnings.warn(\n",
      "/usr/local/lib/python3.10/dist-packages/PIL/Image.py:1054: UserWarning: Palette images with Transparency expressed in bytes should be converted to RGBA images\n",
      "  warnings.warn(\n",
      "/usr/local/lib/python3.10/dist-packages/PIL/Image.py:1054: UserWarning: Palette images with Transparency expressed in bytes should be converted to RGBA images\n",
      "  warnings.warn(\n",
      "/usr/local/lib/python3.10/dist-packages/PIL/Image.py:1054: UserWarning: Palette images with Transparency expressed in bytes should be converted to RGBA images\n",
      "  warnings.warn(\n",
      "/usr/local/lib/python3.10/dist-packages/PIL/Image.py:1054: UserWarning: Palette images with Transparency expressed in bytes should be converted to RGBA images\n",
      "  warnings.warn(\n",
      "/usr/local/lib/python3.10/dist-packages/PIL/Image.py:1054: UserWarning: Palette images with Transparency expressed in bytes should be converted to RGBA images\n",
      "  warnings.warn(\n",
      "/usr/local/lib/python3.10/dist-packages/PIL/Image.py:1054: UserWarning: Palette images with Transparency expressed in bytes should be converted to RGBA images\n",
      "  warnings.warn(\n",
      "/usr/local/lib/python3.10/dist-packages/PIL/Image.py:1054: UserWarning: Palette images with Transparency expressed in bytes should be converted to RGBA images\n",
      "  warnings.warn(\n",
      "/usr/local/lib/python3.10/dist-packages/PIL/Image.py:1054: UserWarning: Palette images with Transparency expressed in bytes should be converted to RGBA images\n",
      "  warnings.warn(\n",
      "/usr/local/lib/python3.10/dist-packages/PIL/Image.py:1054: UserWarning: Palette images with Transparency expressed in bytes should be converted to RGBA images\n",
      "  warnings.warn(\n"
     ]
    },
    {
     "data": {
      "text/html": [],
      "text/plain": [
       "<IPython.core.display.HTML object>"
      ]
     },
     "metadata": {},
     "output_type": "display_data"
    },
    {
     "data": {
      "text/html": [
       "<br>    <style><br>        .wandb-row {<br>            display: flex;<br>            flex-direction: row;<br>            flex-wrap: wrap;<br>            justify-content: flex-start;<br>            width: 100%;<br>        }<br>        .wandb-col {<br>            display: flex;<br>            flex-direction: column;<br>            flex-basis: 100%;<br>            flex: 1;<br>            padding: 10px;<br>        }<br>    </style><br><div class=\"wandb-row\"><div class=\"wandb-col\"><h3>Run history:</h3><br/><table class=\"wandb\"><tr><td>epoch</td><td>▁▁▁▁▁▃▃▃▃▃▃▅▅▅▅▅▅▆▆▆▆▆▆██████</td></tr><tr><td>train_acc</td><td>▁▆▇▆▇▆▇▇▇▇██▇▇███▇██████</td></tr><tr><td>train_loss</td><td>█▅▃▃▂▂▂▂▂▁▁▁▁▁▁▁▁▁▁▁▁▁▁▁</td></tr><tr><td>trainer/global_step</td><td>▁▁▂▂▂▂▂▃▃▃▄▄▄▄▅▅▅▅▅▆▆▆▇▇▇▇███</td></tr><tr><td>val_acc</td><td>▁▅▇▇█</td></tr><tr><td>val_loss</td><td>█▃▁▁▁</td></tr></table><br/></div><div class=\"wandb-col\"><h3>Run summary:</h3><br/><table class=\"wandb\"><tr><td>epoch</td><td>4</td></tr><tr><td>train_acc</td><td>0.98438</td></tr><tr><td>train_loss</td><td>0.06869</td></tr><tr><td>trainer/global_step</td><td>244</td></tr><tr><td>val_acc</td><td>0.96875</td></tr><tr><td>val_loss</td><td>0.14216</td></tr></table><br/></div></div>"
      ],
      "text/plain": [
       "<IPython.core.display.HTML object>"
      ]
     },
     "metadata": {},
     "output_type": "display_data"
    },
    {
     "data": {
      "text/html": [
       " View run <strong style=\"color:#cdcd00\">ViT_B_16-dreez</strong> at: <a href='https://wandb.ai/avs-846/Mini-project/runs/ye8k6g5h' target=\"_blank\">https://wandb.ai/avs-846/Mini-project/runs/ye8k6g5h</a><br> View project at: <a href='https://wandb.ai/avs-846/Mini-project' target=\"_blank\">https://wandb.ai/avs-846/Mini-project</a><br>Synced 5 W&B file(s), 0 media file(s), 10 artifact file(s) and 0 other file(s)"
      ],
      "text/plain": [
       "<IPython.core.display.HTML object>"
      ]
     },
     "metadata": {},
     "output_type": "display_data"
    },
    {
     "data": {
      "text/html": [
       "Find logs at: <code>./wandb/run-20250312_151443-ye8k6g5h/logs</code>"
      ],
      "text/plain": [
       "<IPython.core.display.HTML object>"
      ]
     },
     "metadata": {},
     "output_type": "display_data"
    }
   ],
   "source": [
    "wandb_logger = WandbLogger(log_model=\"all\", name=f\"{ARCHITECTURE}-dreez\", entity=\"avs-846\", project=\"Mini-project\")\n",
    "trainer = PL.Trainer(max_epochs=5, \n",
    "                     accelerator=\"gpu\", \n",
    "                     devices=2, \n",
    "                     precision=32, \n",
    "                     log_every_n_steps=10,\n",
    "                     logger=wandb_logger,\n",
    "                    )\n",
    "\n",
    "wandb_logger.experiment.config.update({\n",
    "    \"batch_size\": BATCH_SIZE,\n",
    "    \"num_classes\": train_dataset.n_classes,\n",
    "    \"learning_rate\": LEARNING_RATE,\n",
    "    \"optimizer\": \"AdamW\",\n",
    "    \"architecture\": ARCHITECTURE,\n",
    "    \"dataset\": \"fruit-and-vegetable-image-recognition\",\n",
    "})\n",
    "\n",
    "trainer.fit(model=model, train_dataloaders=train_dataloader, val_dataloaders=validation_dataloader)\n",
    "trainer.test(model=model, dataloaders=test_dataloader)\n",
    "\n",
    "wandb.finish()"
   ]
  },
  {
   "cell_type": "code",
   "execution_count": 9,
   "metadata": {
    "execution": {
     "iopub.execute_input": "2025-03-12T15:23:10.834539Z",
     "iopub.status.busy": "2025-03-12T15:23:10.834219Z",
     "iopub.status.idle": "2025-03-12T15:23:10.838341Z",
     "shell.execute_reply": "2025-03-12T15:23:10.837561Z",
     "shell.execute_reply.started": "2025-03-12T15:23:10.834502Z"
    },
    "trusted": true
   },
   "outputs": [],
   "source": [
    "wandb.finish(quiet=False)"
   ]
  }
 ],
 "metadata": {
  "kaggle": {
   "accelerator": "nvidiaTeslaT4",
   "dataSources": [
    {
     "datasetId": 952827,
     "sourceId": 3173719,
     "sourceType": "datasetVersion"
    }
   ],
   "dockerImageVersionId": 30919,
   "isGpuEnabled": true,
   "isInternetEnabled": true,
   "language": "python",
   "sourceType": "notebook"
  },
  "kernelspec": {
   "display_name": "Python 3",
   "language": "python",
   "name": "python3"
  },
  "language_info": {
   "codemirror_mode": {
    "name": "ipython",
    "version": 3
   },
   "file_extension": ".py",
   "mimetype": "text/x-python",
   "name": "python",
   "nbconvert_exporter": "python",
   "pygments_lexer": "ipython3",
   "version": "3.10.12"
  }
 },
 "nbformat": 4,
 "nbformat_minor": 4
}
